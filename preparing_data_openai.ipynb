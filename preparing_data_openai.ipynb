{
 "cells": [
  {
   "cell_type": "markdown",
   "metadata": {},
   "source": [
    "## This Notebook prepare data for GPT3.5-1106 Fine Tuning as Jsonl format"
   ]
  },
  {
   "cell_type": "code",
   "execution_count": 2,
   "metadata": {},
   "outputs": [],
   "source": [
    "import json\n",
    "\n",
    "def transform_to_jsonl(input_filename, output_filename):\n",
    "    with open(input_filename, 'r', encoding='utf-8') as infile, open(output_filename, 'w', encoding='utf-8') as outfile:\n",
    "        for line in infile:\n",
    "            # Assuming each line is \"User question\\tAssistant response\"\n",
    "            parts = line.strip().split(';')\n",
    "            if len(parts) < 2:\n",
    "                continue  # Skip lines that don't have the expected format\n",
    "\n",
    "            user_content, assistant_content = parts[0], parts[1]\n",
    "            json_object = {\n",
    "                \"messages\": [\n",
    "                    {\"role\": \"system\", \"content\": \"Snoop dogg is a chill, laid back and cool rapper.\"},\n",
    "                    {\"role\": \"user\", \"content\": user_content},\n",
    "                    {\"role\": \"assistant\", \"content\": assistant_content}\n",
    "                ]\n",
    "            }\n",
    "\n",
    "            # Write the JSON object to the output file in JSON Lines format\n",
    "            json_line = json.dumps(json_object)\n",
    "            outfile.write(json_line + '\\n')\n",
    "\n",
    "# Example usage\n",
    "input_filename = 'dataset.txt'\n",
    "output_filename = 'output.jsonl'\n",
    "transform_to_jsonl(input_filename, output_filename)"
   ]
  },
  {
   "cell_type": "code",
   "execution_count": null,
   "metadata": {},
   "outputs": [],
   "source": []
  }
 ],
 "metadata": {
  "kernelspec": {
   "display_name": "Assignement_2-m0ZKYZpj",
   "language": "python",
   "name": "python3"
  },
  "language_info": {
   "codemirror_mode": {
    "name": "ipython",
    "version": 3
   },
   "file_extension": ".py",
   "mimetype": "text/x-python",
   "name": "python",
   "nbconvert_exporter": "python",
   "pygments_lexer": "ipython3",
   "version": "3.11.5"
  }
 },
 "nbformat": 4,
 "nbformat_minor": 2
}
