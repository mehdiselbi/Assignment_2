{
 "cells": [
  {
   "cell_type": "markdown",
   "metadata": {},
   "source": [
    "## This Notebook is preparing data for llama2 fine tuning and pushing data set to Hugging Face"
   ]
  },
  {
   "cell_type": "code",
   "execution_count": 16,
   "metadata": {},
   "outputs": [],
   "source": [
    "import pandas as pd\n",
    "from huggingface_hub import HfApi, HfFolder\n",
    "from dotenv import load_dotenv\n",
    "import os"
   ]
  },
  {
   "cell_type": "code",
   "execution_count": 17,
   "metadata": {},
   "outputs": [],
   "source": [
    "file_path = 'dataset.txt'\n",
    "data_from_file = []\n",
    "\n",
    "with open(file_path, 'r', encoding='utf-8') as file:\n",
    "    for line in file:\n",
    "        # Strip removes any leading/trailing whitespace including the newline character\n",
    "        data_from_file.append(line.strip())"
   ]
  },
  {
   "cell_type": "markdown",
   "metadata": {},
   "source": [
    "#### Testing output"
   ]
  },
  {
   "cell_type": "code",
   "execution_count": 18,
   "metadata": {},
   "outputs": [
    {
     "data": {
      "text/plain": [
       "\"<s>[INST] <<SYS>>you are a smooth, laid-back, and effortlessly cool, rapper that frequently using of slang and street vernacular, and your name is snoop dogg<</SYS>> What's your secret to staying relaxed under pressure? [/INST] You know, I just keep it smooth, keep it moving. Life's gonna throw you curves, but you just gotta ride the wave, stay high above it all.</s>\""
      ]
     },
     "execution_count": 18,
     "metadata": {},
     "output_type": "execute_result"
    }
   ],
   "source": [
    "data_from_file[0]"
   ]
  },
  {
   "cell_type": "markdown",
   "metadata": {},
   "source": [
    "#### Converting data to parquet file"
   ]
  },
  {
   "cell_type": "code",
   "execution_count": 19,
   "metadata": {},
   "outputs": [],
   "source": [
    "# Create a DataFrame\n",
    "df = pd.DataFrame(data_from_file, columns=['text'])\n",
    "\n",
    "# Save the DataFrame to a Parquet file\n",
    "df.to_parquet('SnoopDog_QA.parquet', engine='pyarrow')"
   ]
  },
  {
   "cell_type": "markdown",
   "metadata": {},
   "source": [
    "#### Pushing data to Hugging Face"
   ]
  },
  {
   "cell_type": "code",
   "execution_count": 20,
   "metadata": {},
   "outputs": [
    {
     "name": "stderr",
     "output_type": "stream",
     "text": [
      "SnoopDog_QA.parquet: 100%|██████████| 11.0k/11.0k [00:00<00:00, 58.5kB/s]\n"
     ]
    },
    {
     "data": {
      "text/plain": [
       "CommitInfo(commit_url='https://huggingface.co/datasets/mehdiselbi/snoopdogg-QA/commit/f6625df6675b44864d967058868b49e6efad127a', commit_message='Upload data/SnoopDog_QA.parquet with huggingface_hub', commit_description='', oid='f6625df6675b44864d967058868b49e6efad127a', pr_url=None, pr_revision=None, pr_num=None)"
      ]
     },
     "execution_count": 20,
     "metadata": {},
     "output_type": "execute_result"
    }
   ],
   "source": [
    "load_dotenv()  # This loads the variables from .env into os.environ\n",
    "hf_api_key = os.getenv(\"HF_API_KEY\", \"\")\n",
    "# Set your API token\n",
    "HfFolder.save_token(hf_api_key)\n",
    "\n",
    "# Initialize the HfApi object\n",
    "api = HfApi()\n",
    "\n",
    "# Upload the dataset\n",
    "api.upload_file(\n",
    "    token=hf_api_key,\n",
    "    path_or_fileobj=\"SnoopDog_QA.parquet\",\n",
    "    path_in_repo=\"data/SnoopDog_QA.parquet\",\n",
    "    repo_id=\"mehdiselbi/snoopdogg-QA\",\n",
    "    repo_type=\"dataset\"\n",
    ")"
   ]
  },
  {
   "cell_type": "code",
   "execution_count": null,
   "metadata": {},
   "outputs": [],
   "source": []
  }
 ],
 "metadata": {
  "kernelspec": {
   "display_name": "Assignement_2-m0ZKYZpj",
   "language": "python",
   "name": "python3"
  },
  "language_info": {
   "codemirror_mode": {
    "name": "ipython",
    "version": 3
   },
   "file_extension": ".py",
   "mimetype": "text/x-python",
   "name": "python",
   "nbconvert_exporter": "python",
   "pygments_lexer": "ipython3",
   "version": "3.11.5"
  }
 },
 "nbformat": 4,
 "nbformat_minor": 2
}
